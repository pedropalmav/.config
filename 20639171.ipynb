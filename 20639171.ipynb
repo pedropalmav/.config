{
  "cells": [
    {
      "cell_type": "markdown",
      "id": "osldigP2epJl",
      "metadata": {
        "id": "osldigP2epJl"
      },
      "source": [
        "# IMPORTANTE\n",
        "Recuerda cambiar el nombre de este notebook a tu número de alumno. Por ejemplo, si tu número de alumno es 14501234, entonces cambia el nombre de este notebook a `14501234.ipynb`."
      ]
    },
    {
      "cell_type": "markdown",
      "id": "HM_HCpksertf",
      "metadata": {
        "id": "HM_HCpksertf"
      },
      "source": [
        "# Actividad 02: Mutation Testing\n",
        "\n",
        "## Introducción\n",
        "Hasta ahora, hemos aprendido a testear nuestro código y hemos tomado como métrica de completitud el coverage. Pero como revisamos en clases, esto puede no ser suficiente, pues los tests que generamos deben tener sentido, no solo recorrer el código.\n",
        "\n",
        "En esta actividad, tu tarea es generar tests tengan 100% de cobertura **y que además sean capaces de matar todos los mutantes 🐛.**"
      ]
    },
    {
      "cell_type": "code",
      "execution_count": 1,
      "id": "4d3f3af7",
      "metadata": {
        "id": "4d3f3af7"
      },
      "outputs": [],
      "source": [
        "from IPython.display import clear_output\n",
        "%pip install coverage\n",
        "%pip install coverage mutmut\n",
        "clear_output()"
      ]
    },
    {
      "cell_type": "markdown",
      "id": "3CRt5GnufMGo",
      "metadata": {
        "id": "3CRt5GnufMGo"
      },
      "source": [
        "## Parte 1: Unit Testing\n",
        "\n",
        "En esta primera parte, se le solicita que cree los tests para el archivo `discount_calculator.py` que se encuentra en la ruta `src/discount_calculator.py`. Los tests deben ser creados en el archivo `tests/test_discount_calculator.py`.\n",
        "\n",
        "La meta en este punto es obtener un 100% de coverage, para poder así pasar al siguiente ítem de la actividad.\n",
        "\n"
      ]
    },
    {
      "cell_type": "markdown",
      "id": "VmKOUoPEffT9",
      "metadata": {
        "id": "VmKOUoPEffT9"
      },
      "source": [
        "## Evaluación Parte 1\n",
        "\n",
        "Para evaluar esta parte de la actividad, se correrán los tests que haya generado en las celdas a continuación. Se espera que los tests pasen exitosamente y que se obtenga un 100% de cobertura de código.\n",
        "\n",
        "La primera celda ejecuta los tests, mientras que la segunda celda muestra el resultado de la cobertura de código. El coverage *total* será el que se tomará en cuenta para la evaluación, este toma en cuenta tanto statement coverage como branch coverage.\n",
        "\n",
        "```bash\n",
        "Name                        Stmts   Miss Branch BrPart  Cover   Missing\n",
        "-----------------------------------------------------------------------\n",
        "src\\discount_calculator.py   24     12      0      0    50%   29-32, 43-46, 56-59\n",
        "-----------------------------------------------------------------------\n",
        "TOTAL                        24     12      0      0    50%\n",
        "```\n",
        "\n",
        "En este caso, el coverage total es de 50%. Lo que equivale a un 3.5 en la escala de 1 a 7.\n",
        "\n",
        "**Por favor note que necesita un 100% de coverage en este punto para poder pasar al item siguiente.**"
      ]
    },
    {
      "cell_type": "code",
      "execution_count": 63,
      "id": "5ebb6225",
      "metadata": {
        "colab": {
          "base_uri": "https://localhost:8080/"
        },
        "id": "5ebb6225",
        "outputId": "abe817d7-774d-48d9-9e3f-110dca205251"
      },
      "outputs": [
        {
          "output_type": "stream",
          "name": "stdout",
          "text": [
            "..............\n",
            "----------------------------------------------------------------------\n",
            "Ran 14 tests in 0.004s\n",
            "\n",
            "OK\n",
            "Name                         Stmts   Miss Branch BrPart  Cover\n",
            "--------------------------------------------------------------\n",
            "src/discount_calculator.py      30      0     14      0   100%\n",
            "--------------------------------------------------------------\n",
            "TOTAL                           30      0     14      0   100%\n"
          ]
        }
      ],
      "source": [
        "# Ejecuta esto para medir la cobertura\n",
        "!coverage run --rcfile=.coveragerc -m unittest discover -s tests\n",
        "!coverage report"
      ]
    },
    {
      "cell_type": "code",
      "execution_count": 11,
      "id": "e837be00",
      "metadata": {
        "colab": {
          "base_uri": "https://localhost:8080/"
        },
        "id": "e837be00",
        "outputId": "a3a03ab1-e2b8-4255-f91d-07d118525b14"
      },
      "outputs": [
        {
          "output_type": "stream",
          "name": "stdout",
          "text": [
            "¡Cobertura del 100% obtenida!\n"
          ]
        }
      ],
      "source": [
        "# Verificar si se obtuvo el 100% de cobertura\n",
        "total_coverage = !coverage report | tail -n 1| awk '{print $NF}'\n",
        "if total_coverage[0] == \"100%\":\n",
        "    print(\"¡Cobertura del 100% obtenida!\")\n",
        "else:\n",
        "    print(f\"Cobertura obtenida: {total_coverage[0]}\")\n"
      ]
    },
    {
      "cell_type": "markdown",
      "id": "SD0dgvCCgJnC",
      "metadata": {
        "id": "SD0dgvCCgJnC"
      },
      "source": [
        "## Parte 2: Mutation Testing\n",
        "\n",
        "En esta parte de la actividad su deber es generar mutantes para los tests que realizó con el objetivo de determinar si estos eran realmente buenos tests o no.\n",
        "\n",
        "En caso de que al ejecutar el siguiente mutador, sobrevivan mutantes, su deber es modificar sus tests para poder matarlos.\n",
        "\n",
        "## Evaluación Parte 2\n",
        "\n",
        "Para evaluar esta parte de la actividad, se ejecutará la mutación y se obtendrá un ratio el total de mutantes generados y la cantidad de mutantes matados.\n",
        "\n",
        "Por ejemplo, si se generan 18 mutantes pero usted solo mata 16, su ratio será de 89%, lo que equivale a un 62.\n",
        "\n",
        "La nota global se calculará como el promedio simple entre ambas partes, pero note que si la parte 1 no tiene un 100% de coverage, **su parte 2 no será evaluada**.\n",
        "\n",
        "\n"
      ]
    },
    {
      "cell_type": "code",
      "execution_count": 64,
      "id": "433f4653",
      "metadata": {
        "colab": {
          "base_uri": "https://localhost:8080/"
        },
        "id": "433f4653",
        "outputId": "6072d0df-dd49-495b-b9d5-b22e33cb3eb1"
      },
      "outputs": [
        {
          "output_type": "stream",
          "name": "stdout",
          "text": [
            "⠋ 52/52  🎉 49  ⏰ 0  🤔 0  🙁 3  🔇 0\n",
            "Mutantes asesinados: 49\n",
            "Mutantes sobrevivientes: 3\n",
            "Quedan 3 mutantes sobrevivientes.\n",
            "Ratio Evaluación: 94.23076923076923%\n"
          ]
        }
      ],
      "source": [
        "import re\n",
        "\n",
        "def get_total(line):\n",
        "  left_index = line.index(\"/\")\n",
        "  right_index = line.index(\"🎉\")\n",
        "  return int(line[left_index+1:right_index].strip())\n",
        "\n",
        "# Ejecutar mutation testing\n",
        "# Eliminamos el cache para poder ejecutar cada vez.\n",
        "!rm -rf .mutmut-cache\n",
        "\n",
        "# Ejecutar mutation testing y capturar el output\n",
        "output = !mutmut run\n",
        "print(output[-1])\n",
        "\n",
        "# Convertir la salida en un solo string\n",
        "output_str = output[-1]\n",
        "\n",
        "# Usar expresiones regulares para extraer los valores\n",
        "killed_match = re.search(r'🎉 (\\d+)', output_str)\n",
        "survived_match = re.search(r'🙁 (\\d+)', output_str)\n",
        "\n",
        "# Extraer los valores\n",
        "mutants_killed = int(killed_match.group(1)) if killed_match else 0\n",
        "surviving_mutants = int(survived_match.group(1)) if survived_match else 0\n",
        "total_mutants = get_total(output_str)\n",
        "\n",
        "# Imprimir los resultados\n",
        "print(f\"Mutantes asesinados: {mutants_killed}\")\n",
        "print(f\"Mutantes sobrevivientes: {surviving_mutants}\")\n",
        "\n",
        "if surviving_mutants == 0:\n",
        "    print(\"¡Todos los mutantes fueron asesinados!\")\n",
        "else:\n",
        "    print(f\"Quedan {surviving_mutants} mutantes sobrevivientes.\")\n",
        "\n",
        "print(f\"Ratio Evaluación: {mutants_killed/total_mutants*100}%\")\n"
      ]
    },
    {
      "cell_type": "markdown",
      "id": "IdjS4TKEhj0u",
      "metadata": {
        "id": "IdjS4TKEhj0u"
      },
      "source": [
        "## ¿Cómo revisar los mutantes 🐛 y mejorar mis tests?\n",
        "\n",
        "Usted puede ejecutar el comando `!mutmut results` para poder obtener una lista de los ids de los mutantes que han sobrevivido.\n",
        "\n",
        "Paso seguido, mediante el comando `!mutmut show <ID_DEL_MUTANTE>` usted puede ver la mutación realizada en el código y modificar sus tests en base a esto."
      ]
    },
    {
      "cell_type": "code",
      "execution_count": 65,
      "id": "UKcTht5nkJc6",
      "metadata": {
        "colab": {
          "base_uri": "https://localhost:8080/"
        },
        "id": "UKcTht5nkJc6",
        "outputId": "2960c898-fd1c-4ddd-f1b5-b3c68f2bf3cc"
      },
      "outputs": [
        {
          "output_type": "stream",
          "name": "stdout",
          "text": [
            "To apply a mutant on disk:\n",
            "    mutmut apply <id>\n",
            "\n",
            "To show a mutant:\n",
            "    mutmut show <id>\n",
            "\n",
            "\n",
            "Survived 🙁 (3)\n",
            "\n",
            "---- src/discount_calculator.py (3) ----\n",
            "\n",
            "8, 13, 18\n"
          ]
        }
      ],
      "source": [
        "!mutmut results"
      ]
    },
    {
      "cell_type": "code",
      "source": [
        "!mutmut show 33"
      ],
      "metadata": {
        "id": "OtzrJLgYsmE4",
        "outputId": "e9d39ee9-bfc6-4206-f352-536b6e40ea8f",
        "colab": {
          "base_uri": "https://localhost:8080/"
        }
      },
      "id": "OtzrJLgYsmE4",
      "execution_count": 66,
      "outputs": [
        {
          "output_type": "stream",
          "name": "stdout",
          "text": [
            "--- src/discount_calculator.py\n",
            "+++ src/discount_calculator.py\n",
            "@@ -26,7 +26,7 @@\n",
            " \n",
            "     def _is_loyal_customer(self) -> bool:\n",
            "         \"\"\"Verifica si el cliente ha sido leal (más de 2 años desde que se unió).\"\"\"\n",
            "-        return datetime.now() - self.join_date > timedelta(days=365 * 2)\n",
            "+        return datetime.now() - self.join_date >= timedelta(days=365 * 2)\n",
            " \n",
            " def calculate_total(products: list[float], discount: bool = False, apply_tax: bool = True) -> float:\n",
            "     total = sum(products)\n",
            "\n"
          ]
        }
      ]
    },
    {
      "cell_type": "markdown",
      "id": "aab_v_itp2tF",
      "metadata": {
        "id": "aab_v_itp2tF"
      },
      "source": [
        " # Evaluación Automática\n",
        "\n",
        "Esta misma celda será agregada posteriormente de manera automática para evaluar su tarea."
      ]
    },
    {
      "cell_type": "code",
      "execution_count": 67,
      "id": "1_9y9H0op2Ix",
      "metadata": {
        "colab": {
          "base_uri": "https://localhost:8080/"
        },
        "id": "1_9y9H0op2Ix",
        "outputId": "25601fb6-a6aa-4998-c9ef-4a75cb4be908"
      },
      "outputs": [
        {
          "output_type": "stream",
          "name": "stdout",
          "text": [
            "Ratio Evaluación: 90.38461538461539%\n",
            "Cobertura obtenida: 100%\n",
            "Porcentajes ponderados: 95.19%\n"
          ]
        }
      ],
      "source": [
        "import re\n",
        "\n",
        "def get_total(line):\n",
        "  left_index = line.index(\"/\")\n",
        "  right_index = line.index(\"🎉\")\n",
        "  return int(line[left_index+1:right_index].strip())\n",
        "\n",
        "total_coverage = !coverage report | tail -n 1| awk '{print $NF}'\n",
        "if total_coverage[0] == \"100%\":\n",
        "  output = !mutmut run\n",
        "  output_str = output[-1]\n",
        "\n",
        "  killed_match = re.search(r'🎉 (\\d+)', output_str)\n",
        "  survived_match = re.search(r'🙁 (\\d+)', output_str)\n",
        "\n",
        "  mutants_killed = int(killed_match.group(1)) if killed_match else 0\n",
        "  surviving_mutants = int(survived_match.group(1)) if survived_match else 0\n",
        "  total_mutants = get_total(output_str)\n",
        "  print(f\"Ratio Evaluación: {mutants_killed/total_mutants*100}%\")\n",
        "  print(f\"Cobertura obtenida: {total_coverage[0]}\")\n",
        "  print(f\"Porcentajes ponderados: {((mutants_killed / total_mutants * 100) + float(total_coverage[0].replace('%', ''))) / 2:.2f}%\")\n",
        "else:\n",
        "    print(f\"Cobertura obtenida: {total_coverage[0]}\")\n"
      ]
    },
    {
      "cell_type": "code",
      "execution_count": null,
      "id": "b8edbaaa",
      "metadata": {
        "id": "b8edbaaa"
      },
      "outputs": [],
      "source": []
    }
  ],
  "metadata": {
    "colab": {
      "provenance": []
    },
    "kernelspec": {
      "display_name": "Python 3",
      "language": "python",
      "name": "python3"
    },
    "language_info": {
      "codemirror_mode": {
        "name": "ipython",
        "version": 3
      },
      "file_extension": ".py",
      "mimetype": "text/x-python",
      "name": "python",
      "nbconvert_exporter": "python",
      "pygments_lexer": "ipython3",
      "version": "3.10.12"
    }
  },
  "nbformat": 4,
  "nbformat_minor": 5
}