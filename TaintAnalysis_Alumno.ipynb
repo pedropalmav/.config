{
  "nbformat": 4,
  "nbformat_minor": 0,
  "metadata": {
    "colab": {
      "provenance": []
    },
    "kernelspec": {
      "name": "python3",
      "display_name": "Python 3"
    },
    "language_info": {
      "name": "python"
    }
  },
  "cells": [
    {
      "cell_type": "markdown",
      "source": [
        "## Clase TSTR\n"
      ],
      "metadata": {
        "id": "WGPAFGozntXE"
      }
    },
    {
      "cell_type": "code",
      "source": [
        "import inspect\n",
        "from typing import *"
      ],
      "metadata": {
        "id": "0eCbNTfKn9ZV"
      },
      "execution_count": 1,
      "outputs": []
    },
    {
      "cell_type": "markdown",
      "source": [
        "### Métodos  proxy definidos a *Mano*"
      ],
      "metadata": {
        "id": "5jnv4V_I5z4o"
      }
    },
    {
      "cell_type": "code",
      "source": [
        "# Este código base es del libro fuzzing book\n",
        "class tstr(str):\n",
        "    \"\"\"Wrapper for strings, saving taint information\"\"\"\n",
        "\n",
        "    def __new__(cls, value, *args, **kw):\n",
        "        \"\"\"Create a tstr() instance. Used internally.\"\"\"\n",
        "        return str.__new__(cls, value)\n",
        "\n",
        "    def __init__(self, value: Any, taint: Any = None, **kwargs) -> None:\n",
        "        \"\"\"Constructor.\n",
        "        `value` is the string value the `tstr` object is to be constructed from.\n",
        "        `taint` is an (optional) taint to be propagated to derived strings.\"\"\"\n",
        "        self.taint: Any = taint\n",
        "        self.trace = []\n",
        "        self.parent = None\n",
        "\n",
        "    def __repr__(self):\n",
        "        \"\"\"Return a representation.\"\"\"\n",
        "        return tstr(str.__repr__(self), taint=self.taint)\n",
        "\n",
        "    def __str__(self) -> str:\n",
        "        \"\"\"Convert to string\"\"\"\n",
        "        return str.__str__(self)\n",
        "\n",
        "    def clear_taint(self):\n",
        "        \"\"\"Remove taint\"\"\"\n",
        "        self.taint = None\n",
        "        self.trace = []\n",
        "        return self\n",
        "\n",
        "    def has_taint(self):\n",
        "        \"\"\"Check if taint is present\"\"\"\n",
        "        return self.taint is not None\n",
        "\n",
        "    def create(self, s):\n",
        "        new_tstr = tstr(s, taint=self.taint)\n",
        "        new_tstr.parent = self\n",
        "        return new_tstr\n",
        "\n",
        "    def __radd__(self, value):\n",
        "        \"\"\"Return value + self, as a `tstr` object\"\"\"\n",
        "        result = self.create(value + str(self))\n",
        "        self.__log_trace()\n",
        "        return result\n",
        "\n",
        "    def __log_trace(self):\n",
        "      frame = inspect.currentframe()\n",
        "      self.__log_trace_recursive(frame.f_back)\n",
        "\n",
        "    def __log_trace_recursive(self, frame):\n",
        "      if frame is None:\n",
        "          return\n",
        "\n",
        "      try:\n",
        "          function_name = frame.f_code.co_name\n",
        "          caller_globals = frame.f_globals\n",
        "          caller_locals = frame.f_locals\n",
        "\n",
        "          function_ref = caller_locals.get(function_name) or caller_globals.get(function_name)\n",
        "          if function_ref:\n",
        "              function_starting_line = inspect.getsourcelines(function_ref)[1]\n",
        "              operation_line_number = frame.f_lineno\n",
        "              relative_line = operation_line_number - function_starting_line\n",
        "              self.append_to_original([function_ref, relative_line])\n",
        "              return\n",
        "      except Exception:\n",
        "          pass\n",
        "\n",
        "      self.__log_trace_recursive(frame.f_back)\n",
        "\n",
        "    def append_to_original(self, value):\n",
        "        if self.parent:\n",
        "            self.parent.append_to_original(value)\n",
        "        self.trace.append(value)\n",
        "\n",
        "\n",
        "\n",
        "    @staticmethod\n",
        "    def make_str_wrapper(fun, name):\n",
        "        \"\"\"Make `fun` (a `str` method) a method in `tstr`\"\"\"\n",
        "        def proxy(self, *args, **kwargs):\n",
        "            res = fun(self, *args, **kwargs)\n",
        "            self.__log_trace()\n",
        "            return self.create(res)\n",
        "\n",
        "        if hasattr(fun, '__doc__'):\n",
        "            # Copy docstring\n",
        "            proxy.__doc__ = fun.__doc__\n",
        "\n",
        "        return proxy"
      ],
      "metadata": {
        "id": "zCDRBQgJ5tym"
      },
      "execution_count": 12,
      "outputs": []
    },
    {
      "cell_type": "markdown",
      "source": [
        "### Métodos Proxy Autogenerados"
      ],
      "metadata": {
        "id": "gKx_WwzZ582i"
      }
    },
    {
      "cell_type": "code",
      "source": [
        "def informationflow_init_1():\n",
        "    for name in ['__format__', '__mod__', '__rmod__', '__getitem__',\n",
        "                 '__add__', '__mul__', '__rmul__',\n",
        "                 'capitalize', 'casefold', 'center', 'encode',\n",
        "                 'expandtabs', 'format', 'format_map', 'join',\n",
        "                 'ljust', 'lower', 'lstrip', 'replace',\n",
        "                 'rjust', 'rstrip', 'strip', 'swapcase', 'title', 'translate', 'upper']:\n",
        "        fun = getattr(str, name)\n",
        "        setattr(tstr, name, tstr.make_str_wrapper(fun,name))\n",
        "informationflow_init_1()\n",
        "INITIALIZER_LIST = [informationflow_init_1]\n",
        "def initialize():\n",
        "    for fn in INITIALIZER_LIST:\n",
        "        fn()\n",
        "\n",
        "initialize()"
      ],
      "metadata": {
        "id": "eOfGDBWzpCL5"
      },
      "execution_count": 13,
      "outputs": []
    },
    {
      "cell_type": "markdown",
      "source": [
        "### Tests"
      ],
      "metadata": {
        "id": "qoYgY14J6G4a"
      }
    },
    {
      "cell_type": "code",
      "source": [
        "# Code: test1\n",
        "def doo(a):\n",
        "  # line 1\n",
        "  return a +\"a\" # line 2\n",
        "\n",
        "\n",
        "input = tstr(\"hello\", taint ='LOW')\n",
        "doo(input)\n",
        "input.trace"
      ],
      "metadata": {
        "colab": {
          "base_uri": "https://localhost:8080/"
        },
        "id": "KKG7x7aRJH0i",
        "outputId": "c22b5d8e-35cd-463c-d812-5cfa9e723d72"
      },
      "execution_count": 14,
      "outputs": [
        {
          "output_type": "execute_result",
          "data": {
            "text/plain": [
              "[[<function __main__.doo(a)>, 2]]"
            ]
          },
          "metadata": {},
          "execution_count": 14
        }
      ]
    },
    {
      "cell_type": "code",
      "source": [
        "# Code: test2\n",
        "def imprimir(a):\n",
        "  print(\"value: \" + a) # line 1\n",
        "\n",
        "def bar(a):\n",
        "  c = a[:1]  # line 1\n",
        "  imprimir(c)     # line 2\n",
        "  # line 3\n",
        "  imprimir(a + c) # line 4\n",
        "\n",
        "def foo(a):\n",
        "  # line 1\n",
        "  return bar(a) # line 2\n",
        "\n",
        "\n",
        "input2 = tstr(\"hello,\")\n",
        "foo(input2)\n",
        "input2.trace"
      ],
      "metadata": {
        "colab": {
          "base_uri": "https://localhost:8080/"
        },
        "id": "k8CRfpgNQ0Kz",
        "outputId": "91cdc9e7-a4ac-432b-c06e-4edd2d6edb46"
      },
      "execution_count": 15,
      "outputs": [
        {
          "output_type": "stream",
          "name": "stdout",
          "text": [
            "value: h\n",
            "value: hello,h\n"
          ]
        },
        {
          "output_type": "execute_result",
          "data": {
            "text/plain": [
              "[[<function __main__.bar(a)>, 1],\n",
              " [<function __main__.imprimir(a)>, 1],\n",
              " [<function __main__.bar(a)>, 4],\n",
              " [<function __main__.imprimir(a)>, 1]]"
            ]
          },
          "metadata": {},
          "execution_count": 15
        }
      ]
    },
    {
      "cell_type": "code",
      "source": [
        "# Code: test3\n",
        "from urllib.parse import urlparse\n",
        "\n",
        "url_string = tstr(\"http://www.google.com/search?q=fuzzing\")\n",
        "urlparse(url_string)\n",
        "\n",
        "url_string.trace"
      ],
      "metadata": {
        "colab": {
          "base_uri": "https://localhost:8080/"
        },
        "id": "HmtjiwXhSX7G",
        "outputId": "24ba5502-329b-4756-aea9-974dc3ccafd2"
      },
      "execution_count": 16,
      "outputs": [
        {
          "output_type": "execute_result",
          "data": {
            "text/plain": [
              "[[<function urllib.parse.urlsplit(url, scheme='', allow_fragments=True)>, 24],\n",
              " [<function urllib.parse.urlsplit(url, scheme='', allow_fragments=True)>, 28],\n",
              " [<function urllib.parse.urlsplit(url, scheme='', allow_fragments=True)>, 28],\n",
              " [<function urllib.parse.urlsplit(url, scheme='', allow_fragments=True)>, 28],\n",
              " [<function urllib.parse.urlsplit(url, scheme='', allow_fragments=True)>, 41],\n",
              " [<function urllib.parse.urlsplit(url, scheme='', allow_fragments=True)>, 45],\n",
              " [<function urllib.parse.urlsplit(url, scheme='', allow_fragments=True)>, 45],\n",
              " [<function urllib.parse.urlsplit(url, scheme='', allow_fragments=True)>, 45],\n",
              " [<function urllib.parse.urlsplit(url, scheme='', allow_fragments=True)>, 47],\n",
              " [<function urllib.parse._splitnetloc(url, start=0)>, 6],\n",
              " [<function urllib.parse._splitnetloc(url, start=0)>, 6]]"
            ]
          },
          "metadata": {},
          "execution_count": 16
        }
      ]
    },
    {
      "cell_type": "code",
      "source": [
        "import re\n",
        "\n",
        "\n",
        "email_pattern = tstr(r'\\S+@\\S+\\.\\S+')\n",
        "text = \"Contact us at support@example.com or info@example.org\"\n",
        "\n",
        "re.findall(email_pattern, text)\n",
        "\n",
        "email_pattern.trace"
      ],
      "metadata": {
        "colab": {
          "base_uri": "https://localhost:8080/"
        },
        "id": "NVtVe-sgShMY",
        "outputId": "0b26b3fb-7692-49c4-863d-f0fb8abf0525"
      },
      "execution_count": 17,
      "outputs": [
        {
          "output_type": "execute_result",
          "data": {
            "text/plain": [
              "[[<function sre_parse.parse(str, flags=0, state=None)>, 3],\n",
              " [<function sre_parse.parse(str, flags=0, state=None)>, 3],\n",
              " [<function sre_parse.parse(str, flags=0, state=None)>, 3],\n",
              " [<function sre_parse._parse(source, state, verbose, nested, first=False)>,\n",
              "  18],\n",
              " [<function sre_parse._parse(source, state, verbose, nested, first=False)>,\n",
              "  31],\n",
              " [<function sre_parse._parse(source, state, verbose, nested, first=False)>,\n",
              "  18],\n",
              " [<function sre_parse._parse(source, state, verbose, nested, first=False)>,\n",
              "  31],\n",
              " [<function sre_parse._parse(source, state, verbose, nested, first=False)>,\n",
              "  18],\n",
              " [<function sre_parse._parse(source, state, verbose, nested, first=False)>,\n",
              "  18],\n",
              " [<function sre_parse._parse(source, state, verbose, nested, first=False)>,\n",
              "  18],\n",
              " [<function sre_parse._parse(source, state, verbose, nested, first=False)>,\n",
              "  31],\n",
              " [<function sre_parse._parse(source, state, verbose, nested, first=False)>,\n",
              "  18],\n",
              " [<function sre_parse._parse(source, state, verbose, nested, first=False)>,\n",
              "  31],\n",
              " [<function sre_parse._parse(source, state, verbose, nested, first=False)>,\n",
              "  18],\n",
              " [<function sre_parse._parse(source, state, verbose, nested, first=False)>,\n",
              "  18],\n",
              " [<function sre_parse._parse(source, state, verbose, nested, first=False)>,\n",
              "  18],\n",
              " [<function sre_parse._parse(source, state, verbose, nested, first=False)>,\n",
              "  31],\n",
              " [<function sre_parse._parse(source, state, verbose, nested, first=False)>,\n",
              "  18],\n",
              " [<function sre_parse._parse(source, state, verbose, nested, first=False)>,\n",
              "  18],\n",
              " [<function sre_parse._parse(source, state, verbose, nested, first=False)>,\n",
              "  18],\n",
              " [<function sre_parse._parse(source, state, verbose, nested, first=False)>,\n",
              "  31],\n",
              " [<function sre_parse._escape(source, escape, state)>, 9],\n",
              " [<function sre_parse._escape(source, escape, state)>, 72],\n",
              " [<function sre_parse._parse(source, state, verbose, nested, first=False)>,\n",
              "  18],\n",
              " [<function sre_parse._parse(source, state, verbose, nested, first=False)>,\n",
              "  31],\n",
              " [<function sre_parse._parse(source, state, verbose, nested, first=False)>,\n",
              "  31]]"
            ]
          },
          "metadata": {},
          "execution_count": 17
        }
      ]
    },
    {
      "cell_type": "markdown",
      "source": [
        "## Testing the html report"
      ],
      "metadata": {
        "id": "XwieJFqFsoyv"
      }
    },
    {
      "cell_type": "code",
      "source": [
        "from collections import defaultdict\n",
        "from pygments import highlight\n",
        "from pygments.lexers import PythonLexer\n",
        "from pygments.formatters import *\n",
        "import inspect\n",
        "\n",
        "def to_html(trace):\n",
        "    functions_code = {}\n",
        "    html_output = \"\"\n",
        "\n",
        "    for function, relative_line in trace:\n",
        "        if function not in functions_code:\n",
        "            try:\n",
        "                source_lines, start_line = inspect.getsourcelines(function)\n",
        "                functions_code[function] = {\"source_lines\": source_lines, \"start_line\": start_line, \"interactions\": [(1, relative_line)], \"interaction_counter\": 1}\n",
        "            except Exception as e:\n",
        "                continue\n",
        "        else:\n",
        "            functions_code[function][\"interaction_counter\"] += 1\n",
        "            functions_code[function][\"interactions\"].append((functions_code[function][\"interaction_counter\"], relative_line))\n",
        "\n",
        "    for function, data in functions_code.items():\n",
        "        source_lines = data[\"source_lines\"]\n",
        "\n",
        "        html_output += f\"<code>\"\n",
        "        source_lines = [line.replace(\"\\n\", \"<br>\").replace(\"  \", \"&emsp;\") for line in source_lines]\n",
        "        for interaction in data[\"interactions\"]:\n",
        "            interaction_number, line_number = interaction\n",
        "            if not source_lines[line_number].startswith(\"[\"):\n",
        "                source_lines[line_number] = f\"[{interaction_number}] {source_lines[line_number]}\"\n",
        "\n",
        "        html_output += ''.join(source_lines)\n",
        "        html_output += \"</code><br>\"\n",
        "\n",
        "    return html_output"
      ],
      "metadata": {
        "id": "cFKaLGluPyvE"
      },
      "execution_count": 45,
      "outputs": []
    },
    {
      "cell_type": "code",
      "source": [
        "from IPython.display import HTML, display\n",
        "\n",
        "def imprimir(a):\n",
        "  print(\"value: \" + a) # line 1\n",
        "\n",
        "def bar(a):\n",
        "  c = a[:1]  # line 1\n",
        "  imprimir(c)     # line 2\n",
        "  # line 3\n",
        "  imprimir(a + c) # line 4\n",
        "\n",
        "def foo(a):\n",
        "  # line 1\n",
        "  return bar(a) # line 2\n",
        "\n",
        "\n",
        "html_input = tstr(\"hello sdfgsdf\")\n",
        "foo(html_input)\n",
        "\n",
        "\n",
        "display(HTML(to_html(html_input.trace)))"
      ],
      "metadata": {
        "colab": {
          "base_uri": "https://localhost:8080/",
          "height": 208
        },
        "id": "MksTiKorsqXh",
        "outputId": "11474e73-ecd6-4be0-b908-3c6382a6e889"
      },
      "execution_count": 46,
      "outputs": [
        {
          "output_type": "stream",
          "name": "stdout",
          "text": [
            "value: h\n",
            "value: hello sdfgsdfh\n"
          ]
        },
        {
          "output_type": "display_data",
          "data": {
            "text/plain": [
              "<IPython.core.display.HTML object>"
            ],
            "text/html": [
              "<code>def bar(a):<br>[1] &emsp;c = a[:1]&emsp;# line 1<br>&emsp;imprimir(c)&emsp;&emsp; # line 2<br>&emsp;# line 3<br>[2] &emsp;imprimir(a + c) # line 4<br></code><br><code>def imprimir(a):<br>[1] &emsp;print(\"value: \" + a) # line 1<br></code><br>"
            ]
          },
          "metadata": {}
        }
      ]
    },
    {
      "cell_type": "code",
      "source": [],
      "metadata": {
        "id": "zAgDBY_BWCUe"
      },
      "execution_count": null,
      "outputs": []
    }
  ]
}